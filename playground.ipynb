{
 "cells": [
  {
   "cell_type": "code",
   "execution_count": 1,
   "metadata": {},
   "outputs": [],
   "source": [
    "(ns trachenberg.notebook.playground\n",
    "    (:require [taoensso.encore :as e]\n",
    "              [clj-time.core :as dt]\n",
    "              [clj-time.coerce :as dtc]\n",
    "              [clj-time.format :as dtf]\n",
    "              [net.cgrand.xforms :as x]\n",
    "              [kixi.stats.core :as kixi]\n",
    "              [thi.ng.geom.viz.core :as viz]\n",
    "              [thi.ng.geom.svg.core :as svg]\n",
    "              [thi.ng.color.core :as col]\n",
    "              [incanter.core :as i]\n",
    "              [incanter.charts :as ic]\n",
    "              [clojupyter.misc.display :as display]\n",
    "              [trachenberg.trump :as trump]\n",
    "              [trachenberg.wikidata :as wikidata]\n",
    "              [trachenberg.language :as lang]\n",
    "              [trachenberg.stock :as stock]))\n",
    "              "
   ]
  },
  {
   "cell_type": "code",
   "execution_count": 2,
   "metadata": {},
   "outputs": [
    {
     "data": {
      "text/plain": [
       "#'trachenberg.notebook.playground/export-viz"
      ]
     },
     "execution_count": 2,
     "metadata": {},
     "output_type": "execute_result"
    }
   ],
   "source": [
    "(defn export-viz\n",
    "  [spec]\n",
    "  (->> spec\n",
    "       (viz/svg-plot2d-cartesian)\n",
    "       (svg/svg {:width 900 :height 600})\n",
    "       (svg/serialize)\n",
    "       (display/make-html)))"
   ]
  },
  {
   "cell_type": "code",
   "execution_count": 9,
   "metadata": {},
   "outputs": [
    {
     "data": {
      "text/plain": [
       "55"
      ]
     },
     "execution_count": 9,
     "metadata": {},
     "output_type": "execute_result"
    }
   ],
   "source": [
    "(def trades (stock/get-trades-with-change {:candles 30}))\n",
    "(count trades)"
   ]
  },
  {
   "cell_type": "code",
   "execution_count": 4,
   "metadata": {},
   "outputs": [
    {
     "data": {
      "text/html": [
       "<div><div><div>Signing orders to move forward with the construction of the Keystone XL and Dakota Access pipelines in the Oval Off… https://t.co/aOxmfO0vOK</div><ul><li><span>2017-01-24T17:49:17.000Z</span><ul><li>company <b>Dakota Access Pipeline</b></li><li>ticker <b>ETP</b></li><li>sentiment <b>-0.2</b></li><li>change <b>0.01</b></li><li>profit <b>-0.01</b></li></ul></li></ul><br /></div><div><div>Great meeting with Ford CEO Mark Fields and General Motors CEO Mary Barra at the @WhiteHouse today. https://t.co/T0eIgO6LP8</div><ul><li><span>2017-01-25T00:46:57.000Z</span><ul><li>company <b>Ford</b></li><li>ticker <b>F</b></li><li>sentiment <b>0.4</b></li><li>change <b>-0.01</b></li><li>profit <b>-0.01</b></li></ul></li></ul><br /></div><div><div>Great meeting with Ford CEO Mark Fields and General Motors CEO Mary Barra at the @WhiteHouse today. https://t.co/T0eIgO6LP8</div><ul><li><span>2017-01-25T00:46:57.000Z</span><ul><li>company <b>Detroit Diesel</b></li><li>ticker <b>BLK</b></li><li>sentiment <b>0.4</b></li><li>change <b>0.01</b></li><li>profit <b>0.01</b></li></ul></li></ul><br /></div><div><div>Thank you Brian Krzanich, CEO of @Intel. A great investment ($7 BILLION) in American INNOVATION and JOBS!… https://t.co/oicfDsPKHQ</div><ul><li><span>2017-02-08T19:22:33.000Z</span><ul><li>company <b>Intel</b></li><li>ticker <b>INTC</b></li><li>sentiment <b>0.3</b></li><li>change <b>-0.03</b></li><li>profit <b>-0.03</b></li></ul></li></ul><br /></div><div><div>Obamacare continues to fail. Humana to pull out in 2018. Will repeal, replace &amp; save healthcare for ALL Americans. \n",
       "https://t.co/glWEQ0lNR4</div><ul><li><span>2017-02-14T22:50:33.000Z</span><ul><li>company <b>Humana</b></li><li>ticker <b>HUM</b></li><li>sentiment <b>-0.1</b></li><li>change <b>0.0</b></li><li>profit <b>0.0</b></li></ul></li></ul><br /></div><div><div>Aetna CEO: Obamacare in 'Death Spiral' #RepealAndReplace \n",
       "https://t.co/dmHL7xIEQv</div><ul><li><span>2017-02-15T21:34:05.000Z</span><ul><li>company <b>Aetna</b></li><li>ticker <b>AET</b></li><li>sentiment <b>-0.2</b></li><li>change <b>-0.01</b></li><li>profit <b>0.01</b></li></ul></li></ul><br /></div><div><div>Great optimism for future of U.S. business, AND JOBS, with the DOW having an 11th straight record close. Big tax &amp; regulation cuts coming!</div><ul><li><span>2017-02-25T13:27:04.000Z</span><ul><li>company <b>Dow Jones Industrial Average</b></li><li>ticker <b>NWSA</b></li><li>sentiment <b>0.3</b></li><li>change <b>0.02</b></li><li>profit <b>0.02</b></li></ul></li></ul><br /></div><div><div>Wow, @FoxNews just reporting big news. Source: \"Official behind unmasking is high up. Known Intel official is responsible. Some unmasked....</div><ul><li><span>2017-04-01T16:50:36.000Z</span><ul><li>company <b>Intel</b></li><li>ticker <b>INTC</b></li><li>sentiment <b>0.1</b></li><li>change <b>0.0</b></li><li>profit <b>0.0</b></li></ul></li></ul><br /></div><div><div>Death spiral!\n",
       "'Aetna will exit Obamacare markets in VA in 2018, citing expected losses on INDV plans this year'\n",
       "https://t.co/5YnzDitF8r</div><ul><li><span>2017-05-04T12:28:39.000Z</span><ul><li>company <b>Aetna</b></li><li>ticker <b>AET</b></li><li>sentiment <b>-0.3</b></li><li>change <b>0.07</b></li><li>profit <b>-0.07</b></li></ul></li></ul><br /></div><div><div>Thoughts and prayers with the sailors of USS Fitzgerald and their families. Thank you to our Japanese allies for th… https://t.co/BBvmTFxVkk</div><ul><li><span>2017-06-17T14:08:48.000Z</span><ul><li>company <b>Bath Iron Works</b></li><li>ticker <b>GD</b></li><li>sentiment <b>0.3</b></li><li>change <b>0.06</b></li><li>profit <b>0.06</b></li></ul></li></ul><br /></div><div><div>The #AmazonWashingtonPost, sometimes referred to as the guardian of Amazon not paying internet taxes (which they should) is FAKE NEWS!</div><ul><li><span>2017-06-28T13:06:14.000Z</span><ul><li>company <b>Amazon</b></li><li>ticker <b>AMZN</b></li><li>sentiment <b>-0.7</b></li><li>change <b>-0.02</b></li><li>profit <b>0.02</b></li></ul></li></ul><br /></div><div><div>Crazy Joe Scarborough and dumb as a rock Mika are not bad people, but their low rated show is dominated by their NBC bosses. Too bad!</div><ul><li><span>2017-07-01T13:20:35.000Z</span><ul><li>company <b>NBCUniversal</b></li><li>ticker <b>CMCSA</b></li><li>sentiment <b>-0.4</b></li><li>change <b>-0.15</b></li><li>profit <b>0.15</b></li></ul></li></ul><br /></div><div><div>Dow hit a new intraday all-time high! I wonder whether or not the Fake News Media will so report?</div><ul><li><span>2017-07-03T21:10:25.000Z</span><ul><li>company <b>Dow Jones Industrial Average</b></li><li>ticker <b>NWSA</b></li><li>sentiment <b>-0.3</b></li><li>change <b>-0.04</b></li><li>profit <b>0.04</b></li></ul></li></ul><br /></div><div><div>Join me live for the commissioning ceremony of the USS Gerald R. Ford!\n",
       "➡️https://t.co/F78iOR64TW #USA https://t.co/PrVceEmPOB</div><ul><li><span>2017-07-22T14:43:18.000Z</span><ul><li>company <b>Newport News Shipbuilding</b></li><li>ticker <b>HII</b></li><li>sentiment <b>0.1</b></li><li>change <b>-0.02</b></li><li>profit <b>-0.02</b></li></ul></li></ul><br /></div><div><div>So many stories about me in the @washingtonpost are Fake News. They are as bad as ratings challenged @CNN. Lobbyist for Amazon and taxes?</div><ul><li><span>2017-07-25T02:28:44.000Z</span><ul><li>company <b>Amazon</b></li><li>ticker <b>AMZN</b></li><li>sentiment <b>-0.3</b></li><li>change <b>-0.07</b></li><li>profit <b>0.07</b></li></ul></li></ul><br /></div><div><div>Is Fake News Washington Post being used as a lobbyist weapon against Congress to keep Politicians from looking into Amazon no-tax monopoly?</div><ul><li><span>2017-07-25T02:36:17.000Z</span><ul><li>company <b>Amazon</b></li><li>ticker <b>AMZN</b></li><li>sentiment <b>-0.8</b></li><li>change <b>-0.07</b></li><li>profit <b>0.07</b></li></ul></li></ul><br /></div><div><div>Attorney General Jeff Sessions has taken a VERY weak position on Hillary Clinton crimes (where are E-mails &amp; DNC server) &amp; Intel leakers!</div><ul><li><span>2017-07-25T10:12:24.000Z</span><ul><li>company <b>Intel</b></li><li>ticker <b>INTC</b></li><li>sentiment <b>-0.3</b></li><li>change <b>0.04</b></li><li>profit <b>-0.04</b></li></ul></li></ul><br /></div><div><div>Toyota &amp; Mazda to build a new $1.6B plant here in the U.S.A. and create 4K new American jobs. A great investment in American manufacturing!</div><ul><li><span>2017-08-04T10:02:24.000Z</span><ul><li>company <b>Toyota</b></li><li>ticker <b>TM</b></li><li>sentiment <b>0.5</b></li><li>change <b>0.03</b></li><li>profit <b>0.03</b></li></ul></li></ul><br /></div><div><div>Now that Ken Frazier of Merck Pharma has resigned from President's Manufacturing Council,he will have more time to LOWER RIPOFF DRUG PRICES!</div><ul><li><span>2017-08-14T12:54:47.000Z</span><ul><li>company <b>Merck & Co.</b></li><li>ticker <b>MRK</b></li><li>sentiment <b>-0.7</b></li><li>change <b>0.04</b></li><li>profit <b>-0.04</b></li></ul></li></ul><br /></div><div><div>Thank you Arizona. Beautiful turnout of 15,000 in Phoenix tonight! Full coverage of rally via my Facebook at: https://t.co/s0D12EFs40 https://t.co/WT4D9Vsen1</div><ul><li><span>2017-08-23T05:18:29.000Z</span><ul><li>company <b>Facebook</b></li><li>ticker <b>FB</b></li><li>sentiment <b>0.2</b></li><li>change <b>0.01</b></li><li>profit <b>0.01</b></li></ul></li></ul><br /></div><div><div>Wonderful to be in North Dakota with the incredible hardworking men &amp; women @ the Andeavor Refinery. \n",
       "Full remarks: 🎥https://t.co/uxBpyeERUm https://t.co/fV9R9gJxDS</div><ul><li><span>2017-09-06T23:20:48.000Z</span><ul><li>company <b>Tesoro Corporation</b></li><li>ticker <b>TSO</b></li><li>sentiment <b>0.6</b></li><li>change <b>0.05</b></li><li>profit <b>0.05</b></li></ul></li></ul><br /></div><div><div>FLORIDA- \n",
       "Visit https://t.co/pdBaD9t8SK to find shelters, road closures, &amp; evacuation routes. Helpful Twitter list: https://t.co/BUMVlxGFe8 https://t.co/ncnuqCeB5K</div><ul><li><span>2017-09-09T15:41:55.000Z</span><ul><li>company <b>Twitter</b></li><li>ticker <b>TWTR</b></li><li>sentiment <b>0.4</b></li><li>change <b>0.27</b></li><li>profit <b>0.27</b></li></ul></li></ul><br /></div><div><div>The Russia hoax continues, now it's ads on Facebook. What about the totally biased and dishonest Media coverage in favor of Crooked Hillary?</div><ul><li><span>2017-09-22T10:44:47.000Z</span><ul><li>company <b>Facebook</b></li><li>ticker <b>FB</b></li><li>sentiment <b>-0.9</b></li><li>change <b>0.06</b></li><li>profit <b>-0.06</b></li></ul></li></ul><br /></div><div><div>Thank you to Doug Parker and American Airlines for all of the help you have given to the U.S. with Hurricane flights. Fantastic job!</div><ul><li><span>2017-09-22T17:54:59.000Z</span><ul><li>company <b>American Airlines</b></li><li>ticker <b>AAL</b></li><li>sentiment <b>0.7</b></li><li>change <b>-0.03</b></li><li>profit <b>-0.03</b></li></ul></li></ul><br /></div><div><div>Facebook was always anti-Trump.The Networks were always anti-Trump hence,Fake News, @nytimes(apologized) &amp; @WaPo were anti-Trump. Collusion?</div><ul><li><span>2017-09-27T13:36:24.000Z</span><ul><li>company <b>Facebook</b></li><li>ticker <b>FB</b></li><li>sentiment <b>-0.5</b></li><li>change <b>0.07</b></li><li>profit <b>-0.07</b></li></ul></li></ul><br /></div><div><div>...approvals of The Keystone XL &amp; Dakota Access pipelines. Also, look at the recent EPA cancelations &amp; our great new Supreme Court Justice!</div><ul><li><span>2017-10-15T13:46:27.000Z</span><ul><li>company <b>Dakota Access Pipeline</b></li><li>ticker <b>ETP</b></li><li>sentiment <b>0.3</b></li><li>change <b>-0.06</b></li><li>profit <b>-0.06</b></li></ul></li></ul><br /></div><div><div>Keep hearing about \"tiny\" amount of money spent on Facebook ads. What about the billions of dollars of Fake News on CNN, ABC, NBC &amp; CBS?</div><ul><li><span>2017-10-21T20:06:00.000Z</span><ul><li>company <b>Facebook</b></li><li>ticker <b>FB</b></li><li>sentiment <b>-0.6</b></li><li>change <b>-0.26</b></li><li>profit <b>0.26</b></li></ul></li></ul><br /></div><div><div>Crooked Hillary Clinton spent hundreds of millions of dollars more on Presidential Election than I did. Facebook was on her side, not mine!</div><ul><li><span>2017-10-21T21:21:08.000Z</span><ul><li>company <b>Facebook</b></li><li>ticker <b>FB</b></li><li>sentiment <b>-0.4</b></li><li>change <b>-0.26</b></li><li>profit <b>0.26</b></li></ul></li></ul><br /></div><div><div>Broadcom's move to America=$20 BILLION of annual rev into U.S.A., $3+ BILLION/yr. in research/engineering &amp; $6 BILLION/yr. in manufacturing. https://t.co/NsJ4PtVTtl</div><ul><li><span>2017-11-02T20:33:18.000Z</span><ul><li>company <b>Broadcom</b></li><li>ticker <b>BRCM</b></li><li>sentiment <b>0.1</b></li><li>change <b>0.01</b></li><li>profit <b>0.01</b></li></ul></li></ul><br /></div><div><div>Dow, S&amp;P 500 and Nasdaq all finished the day at new RECORD HIGHS! https://t.co/wJyB9d00hh</div><ul><li><span>2017-11-28T22:30:12.000Z</span><ul><li>company <b>Dow Jones Industrial Average</b></li><li>ticker <b>NWSA</b></li><li>sentiment <b>0.3</b></li><li>change <b>0.06</b></li><li>profit <b>0.06</b></li></ul></li></ul><br /></div><div><div>Dow, S&amp;P 500 and Nasdaq all finished the day at new RECORD HIGHS! https://t.co/wJyB9d00hh</div><ul><li><span>2017-11-28T22:30:12.000Z</span><ul><li>company <b>NASDAQ</b></li><li>ticker <b>NDAQ</b></li><li>sentiment <b>0.3</b></li><li>change <b>0.03</b></li><li>profit <b>0.03</b></li></ul></li></ul><br /></div><div><div>Charles McCullough, the respected fmr Intel Comm Inspector General, said public was misled on Crooked Hillary Emails. “Emails endangered National Security.” Why aren’t our deep State authorities looking at this? Rigged &amp; corrupt? @TuckerCarlson @seanhannity</div><ul><li><span>2017-11-29T02:45:10.000Z</span><ul><li>company <b>Intel</b></li><li>ticker <b>INTC</b></li><li>sentiment <b>-0.5</b></li><li>change <b>-0.03</b></li><li>profit <b>0.03</b></li></ul></li></ul><br /></div><div><div>Wow, Matt Lauer was just fired from NBC for “inappropriate sexual behavior in the workplace.” But when will the top executives at NBC &amp; Comcast be fired for putting out so much Fake News. Check out Andy Lack’s past!</div><ul><li><span>2017-11-29T12:16:21.000Z</span><ul><li>company <b>NBCUniversal</b></li><li>ticker <b>CMCSA</b></li><li>sentiment <b>-0.6</b></li><li>change <b>0.15</b></li><li>profit <b>-0.15</b></li></ul></li></ul><br /></div><div><div>Wow, Matt Lauer was just fired from NBC for “inappropriate sexual behavior in the workplace.” But when will the top executives at NBC &amp; Comcast be fired for putting out so much Fake News. Check out Andy Lack’s past!</div><ul><li><span>2017-11-29T12:16:21.000Z</span><ul><li>company <b>Comcast</b></li><li>ticker <b>CMCSA</b></li><li>sentiment <b>-0.6</b></li><li>change <b>0.15</b></li><li>profit <b>-0.15</b></li></ul></li></ul><br /></div><div><div>“Had the information (Crooked Hillary’s emails) been released there would have been harm to National Security....\"\n",
       "Charles McCullough\n",
       "Fmr Intel Comm Inspector General https://t.co/b0tLW5TVhX</div><ul><li><span>2017-11-30T02:00:23.000Z</span><ul><li>company <b>Intel</b></li><li>ticker <b>INTC</b></li><li>sentiment <b>-0.2</b></li><li>change <b>-0.04</b></li><li>profit <b>0.04</b></li></ul></li></ul><br /></div><div><div>The Dow just broke 24,000 for the first time (another all-time Record). If the Dems had won the Presidential Election, the Market would be down 50% from these levels and Consumer Confidence, which is also at an all-time high, would be “low and glum!”</div><ul><li><span>2017-11-30T15:46:39.000Z</span><ul><li>company <b>Dow Jones Industrial Average</b></li><li>ticker <b>NWSA</b></li><li>sentiment <b>-0.2</b></li><li>change <b>0.04</b></li><li>profit <b>-0.04</b></li></ul></li></ul><br /></div><div><div>Fines and penalties against Wells Fargo Bank for their bad acts against their customers and others will not be dropped, as has incorrectly been reported, but will be pursued and, if anything, substantially increased. I will cut Regs but make penalties severe when caught cheating!</div><ul><li><span>2017-12-08T15:18:27.000Z</span><ul><li>company <b>Wells Fargo</b></li><li>ticker <b>WFC</b></li><li>sentiment <b>-0.6</b></li><li>change <b>0.1</b></li><li>profit <b>-0.1</b></li></ul></li></ul><br /></div><div><div>DOW, S&amp;P 500 and NASDAQ close at record highs! #MAGA https://t.co/hvqwnqSGuG</div><ul><li><span>2017-12-16T00:00:11.000Z</span><ul><li>company <b>Dow Jones Industrial Average</b></li><li>ticker <b>NWSA</b></li><li>sentiment <b>0.1</b></li><li>change <b>0.02</b></li><li>profit <b>0.02</b></li></ul></li></ul><br /></div><div><div>DOW, S&amp;P 500 and NASDAQ close at record highs! #MAGA https://t.co/hvqwnqSGuG</div><ul><li><span>2017-12-16T00:00:11.000Z</span><ul><li>company <b>NASDAQ</b></li><li>ticker <b>NDAQ</b></li><li>sentiment <b>0.1</b></li><li>change <b>0.13</b></li><li>profit <b>0.13</b></li></ul></li></ul><br /></div><div><div>DOW RISES 5000 POINTS ON THE YEAR FOR THE FIRST TIME EVER - MAKE AMERICA GREAT AGAIN!</div><ul><li><span>2017-12-19T11:04:11.000Z</span><ul><li>company <b>Dow Jones Industrial Average</b></li><li>ticker <b>NWSA</b></li><li>sentiment <b>0.7</b></li><li>change <b>0.0</b></li><li>profit <b>0.0</b></li></ul></li></ul><br /></div><div><div>Why is the United States Post Office, which is losing many billions of dollars a year, while charging Amazon and others so little to deliver their packages, making Amazon richer and the Post Office dumber and poorer? Should be charging MUCH MORE!</div><ul><li><span>2017-12-29T13:04:09.000Z</span><ul><li>company <b>Amazon</b></li><li>ticker <b>AMZN</b></li><li>sentiment <b>-0.4</b></li><li>change <b>0.21</b></li><li>profit <b>-0.21</b></li></ul></li></ul><br /></div><div><div>Cutting taxes and simplifying regulations makes America the place to invest! Great news as Toyota and Mazda announce they are bringing 4,000 JOBS and investing $1.6 BILLION in Alabama, helping to further grow our economy! https://t.co/Kcg8IVH6iA</div><ul><li><span>2018-01-10T23:37:41.000Z</span><ul><li>company <b>Toyota</b></li><li>ticker <b>TM</b></li><li>sentiment <b>0.3</b></li><li>change <b>0.0</b></li><li>profit <b>0.0</b></li></ul></li></ul><br /></div><div><div>Disproven and paid for by Democrats “Dossier used to spy on Trump Campaign. Did FBI use Intel tool to influence the Election?” @foxandfriends  Did Dems or Clinton also pay Russians? Where are hidden and smashed DNC servers? Where are Crooked Hillary Emails?  What a mess!</div><ul><li><span>2018-01-11T11:33:06.000Z</span><ul><li>company <b>Intel</b></li><li>ticker <b>INTC</b></li><li>sentiment <b>-0.3</b></li><li>change <b>0.14</b></li><li>profit <b>-0.14</b></li></ul></li></ul><br /></div><div><div>Chrysler is moving a massive plant from Mexico to Michigan, reversing a years long opposite trend. Thank you Chrysler, a very wise decision. The voters in Michigan are very happy they voted for Trump/Pence. Plenty of more to follow!</div><ul><li><span>2018-01-12T02:53:05.000Z</span><ul><li>company <b>Chrysler</b></li><li>ticker <b>FCAU</b></li><li>sentiment <b>0.3</b></li><li>change <b>-0.08</b></li><li>profit <b>-0.08</b></li></ul></li></ul><br /></div><div><div>I promised that my policies would allow companies like Apple to bring massive amounts of money back to the United States. Great to see Apple follow through as a result of TAX CUTS. Huge win for American workers and the USA! https://t.co/OwXVUyLOb1</div><ul><li><span>2018-01-17T23:28:30.000Z</span><ul><li>company <b>Apple Inc.</b></li><li>ticker <b>AAPL</b></li><li>sentiment <b>0.3</b></li><li>change <b>-0.02</b></li><li>profit <b>-0.02</b></li></ul></li></ul><br /></div><div><div>During the campaign, I promised to MAKE AMERICA GREAT AGAIN by bringing businesses and jobs back to our country. I am very proud to see companies like Chrysler moving operations from Mexico to Michigan where there are so many great American workers! https://t.co/hz2q9UTfnF</div><ul><li><span>2018-01-17T23:32:58.000Z</span><ul><li>company <b>Chrysler</b></li><li>ticker <b>FCAU</b></li><li>sentiment <b>0.5</b></li><li>change <b>-0.12</b></li><li>profit <b>-0.12</b></li></ul></li></ul><br /></div><div><div>Tremendous investment by companies from all over the world being made in America. There has never been anything like it. Now Disney, J.P. Morgan Chase and many others. Massive Regulation Reduction and Tax Cuts are making us a powerhouse again. Long way to go! Jobs, Jobs, Jobs!</div><ul><li><span>2018-01-24T11:58:58.000Z</span><ul><li>company <b>The Walt Disney Company</b></li><li>ticker <b>DIS</b></li><li>sentiment <b>0.3</b></li><li>change <b>-0.06</b></li><li>profit <b>-0.06</b></li></ul></li></ul><br /></div><div><div>Tremendous investment by companies from all over the world being made in America. There has never been anything like it. Now Disney, J.P. Morgan Chase and many others. Massive Regulation Reduction and Tax Cuts are making us a powerhouse again. Long way to go! Jobs, Jobs, Jobs!</div><ul><li><span>2018-01-24T11:58:58.000Z</span><ul><li>company <b>JPMorgan Chase</b></li><li>ticker <b>JPM</b></li><li>sentiment <b>0.3</b></li><li>change <b>-0.01</b></li><li>profit <b>-0.01</b></li></ul></li></ul><br /></div><div><div>Our economy is better than it has been in many decades. Businesses are coming back to America like never before. Chrysler, as an example, is leaving Mexico and coming back to the USA. Unemployment is nearing record lows. We are on the right track!</div><ul><li><span>2018-01-28T13:18:33.000Z</span><ul><li>company <b>Chrysler</b></li><li>ticker <b>FCAU</b></li><li>sentiment <b>0.1</b></li><li>change <b>0.83</b></li><li>profit <b>0.83</b></li></ul></li></ul><br /></div><div><div>The Fake News Media never fails. Hard to ignore this fact from the Vice President of Facebook Ads, Rob Goldman! https://t.co/XGC7ynZwYJ</div><ul><li><span>2018-02-17T20:11:32.000Z</span><ul><li>company <b>Facebook</b></li><li>ticker <b>FB</b></li><li>sentiment <b>-0.4</b></li><li>change <b>-0.26</b></li><li>profit <b>0.26</b></li></ul></li></ul><br /></div><div><div>“I have seen all of the Russian ads and I can say very definitively that swaying the election was *NOT* the main goal.”\n",
       "Rob Goldman\n",
       "Vice President of Facebook Ads https://t.co/A5ft7cGJkE</div><ul><li><span>2018-02-17T20:16:39.000Z</span><ul><li>company <b>Facebook</b></li><li>ticker <b>FB</b></li><li>sentiment <b>-0.6</b></li><li>change <b>-0.26</b></li><li>profit <b>0.26</b></li></ul></li></ul><br /></div><div><div>While we are on the subject, it is reported that the U.S. Post Office will lose $1.50 on average for each package it delivers for Amazon. That amounts to Billions of Dollars. The Failing N.Y. Times reports that “the size of the company’s lobbying staff has ballooned,” and that...</div><ul><li><span>2018-03-31T12:45:41.000Z</span><ul><li>company <b>Amazon</b></li><li>ticker <b>AMZN</b></li><li>sentiment <b>-0.4</b></li><li>change <b>-0.24</b></li><li>profit <b>0.24</b></li></ul></li></ul><br /></div><div><div>...does not include the Fake Washington Post, which is used as a “lobbyist” and should so  REGISTER. If the P.O. “increased its parcel rates, Amazon’s shipping costs would rise by $2.6 Billion.” This Post Office scam must stop. Amazon must pay real costs (and taxes) now!</div><ul><li><span>2018-03-31T12:52:59.000Z</span><ul><li>company <b>Amazon</b></li><li>ticker <b>AMZN</b></li><li>sentiment <b>-0.3</b></li><li>change <b>-0.24</b></li><li>profit <b>0.24</b></li></ul></li></ul><br /></div><div><div>So funny to watch Fake News Networks, among the most dishonest groups of people I have ever dealt with, criticize Sinclair Broadcasting for being biased. Sinclair is far superior to CNN and even more Fake NBC, which is a total joke.</div><ul><li><span>2018-04-02T13:28:42.000Z</span><ul><li>company <b>Sinclair Broadcast Group</b></li><li>ticker <b>SBGI</b></li><li>sentiment <b>-0.8</b></li><li>change <b>0.05</b></li><li>profit <b>-0.05</b></li></ul></li></ul><br /></div><div><div>Only fools, or worse, are saying that our money losing Post Office makes money with Amazon. THEY LOSE A FORTUNE, and this will be changed. Also, our fully tax paying retailers are closing stores all over the country...not a level playing field!</div><ul><li><span>2018-04-02T13:35:03.000Z</span><ul><li>company <b>Amazon</b></li><li>ticker <b>AMZN</b></li><li>sentiment <b>-0.4</b></li><li>change <b>-0.24</b></li><li>profit <b>0.24</b></li></ul></li></ul><br /></div></div>"
      ]
     },
     "execution_count": 4,
     "metadata": {},
     "output_type": "execute_result"
    }
   ],
   "source": [
    "(display/hiccup-html\n",
    "    [:div (for [m trades]\n",
    "              [:div\n",
    "               [:div (:text m)]\n",
    "               [:ul \n",
    "                [:li \n",
    "                 [:span (dtc/to-string (:created-at m))]\n",
    "                 [:ul\n",
    "                  [:li \"company \" [:b (:company m)]]\n",
    "                  [:li \"ticker \" [:b (:ticker m)]]\n",
    "                  [:li \"sentiment \" [:b (:sentiment m)]]\n",
    "                  [:li \"change \" [:b (e/round2 (:percent-change m))]]\n",
    "                  [:li \"profit \" [:b (e/round2 (:profit m))]]]]] \n",
    "               [:br]])])"
   ]
  },
  {
   "cell_type": "code",
   "execution_count": 24,
   "metadata": {},
   "outputs": [
    {
     "data": {
      "text/plain": [
       "[-0.12182741116751272 0.09148089908426593]"
      ]
     },
     "execution_count": 24,
     "metadata": {},
     "output_type": "execute_result"
    }
   ],
   "source": [
    "(apply (juxt min max) (map :percent-change trades))"
   ]
  },
  {
   "cell_type": "code",
   "execution_count": 7,
   "metadata": {},
   "outputs": [
    {
     "data": {
      "text/plain": [
       "#'trachenberg.notebook.playground/spec"
      ]
     },
     "execution_count": 7,
     "metadata": {},
     "output_type": "execute_result"
    }
   ],
   "source": [
    "(let[[offset slope] (transduce identity (kixi.stats.core/simple-linear-regression :sentiment :percent-change) trades) \n",
    "      s1-line (map (juxt identity #(+ offset (* % slope))) (into [-1] (conj (mapv :sentiment trades) 1)))]\n",
    "    (def spec\n",
    "         {:x-axis (viz/linear-axis\n",
    "                   {:domain      [-1 1]\n",
    "                    :range       [100 850]\n",
    "                    :major       0.1\n",
    ";;                  :minor       0.05\n",
    "                    :pos         550\n",
    "                    :label-dist  15\n",
    "                    :label-style {:text-anchor \"end\"}})\n",
    "          :y-axis (viz/linear-axis\n",
    "                   {:domain      [-1 1]\n",
    "                    :range       [550 50]\n",
    "                    :major       0.1\n",
    ";;                  :minor       0.005\n",
    "                    :pos         100\n",
    "                    :label-dist  15\n",
    "                    :label-style {:text-anchor \"end\"}})\n",
    "          :grid   {:attribs {:stroke \"#caa\"}\n",
    "                   :minor-x true\n",
    "                   :minor-y true}\n",
    "          :data   [{:values  (map (juxt :sentiment :percent-change) trades)\n",
    "                    :attribs {:fill \"#0af\" :stroke \"none\"}\n",
    "                    :layout  viz/svg-scatter-plot}\n",
    "                   {:values  s1-line\n",
    "                    :attribs {:fill \"none\" :stroke \"#0fa\" :stroke-width \"3px\"}\n",
    "                    :layout  viz/svg-line-plot}]}))\n",
    "          \n",
    "        \n",
    "                "
   ]
  },
  {
   "cell_type": "code",
   "execution_count": 8,
   "metadata": {},
   "outputs": [
    {
     "data": {
      "text/html": [
       "<?xml version=\"1.0\"?>\n",
       "<svg height=\"600\" version=\"1.1\" width=\"900\" xmlns:xlink=\"http://www.w3.org/1999/xlink\" xmlns=\"http://www.w3.org/2000/svg\"><g><g stroke-dasharray=\"1 1\" stroke=\"#caa\"><line x1=\"100.00\" x2=\"100.00\" y1=\"550.00\" y2=\"50.00\" /><line x1=\"137.50\" x2=\"137.50\" y1=\"550.00\" y2=\"50.00\" /><line x1=\"175.00\" x2=\"175.00\" y1=\"550.00\" y2=\"50.00\" /><line x1=\"212.50\" x2=\"212.50\" y1=\"550.00\" y2=\"50.00\" /><line x1=\"250.00\" x2=\"250.00\" y1=\"550.00\" y2=\"50.00\" /><line x1=\"287.50\" x2=\"287.50\" y1=\"550.00\" y2=\"50.00\" /><line x1=\"325.00\" x2=\"325.00\" y1=\"550.00\" y2=\"50.00\" /><line x1=\"362.50\" x2=\"362.50\" y1=\"550.00\" y2=\"50.00\" /><line x1=\"400.00\" x2=\"400.00\" y1=\"550.00\" y2=\"50.00\" /><line x1=\"437.50\" x2=\"437.50\" y1=\"550.00\" y2=\"50.00\" /><line x1=\"475.00\" x2=\"475.00\" y1=\"550.00\" y2=\"50.00\" /><line x1=\"512.50\" x2=\"512.50\" y1=\"550.00\" y2=\"50.00\" /><line x1=\"550.00\" x2=\"550.00\" y1=\"550.00\" y2=\"50.00\" /><line x1=\"587.50\" x2=\"587.50\" y1=\"550.00\" y2=\"50.00\" /><line x1=\"625.00\" x2=\"625.00\" y1=\"550.00\" y2=\"50.00\" /><line x1=\"662.50\" x2=\"662.50\" y1=\"550.00\" y2=\"50.00\" /><line x1=\"700.00\" x2=\"700.00\" y1=\"550.00\" y2=\"50.00\" /><line x1=\"737.50\" x2=\"737.50\" y1=\"550.00\" y2=\"50.00\" /><line x1=\"775.00\" x2=\"775.00\" y1=\"550.00\" y2=\"50.00\" /><line x1=\"812.50\" x2=\"812.50\" y1=\"550.00\" y2=\"50.00\" /><line x1=\"850.00\" x2=\"850.00\" y1=\"550.00\" y2=\"50.00\" /><line x1=\"100.00\" x2=\"850.00\" y1=\"550.00\" y2=\"550.00\" /><line x1=\"100.00\" x2=\"850.00\" y1=\"525.00\" y2=\"525.00\" /><line x1=\"100.00\" x2=\"850.00\" y1=\"500.00\" y2=\"500.00\" /><line x1=\"100.00\" x2=\"850.00\" y1=\"475.00\" y2=\"475.00\" /><line x1=\"100.00\" x2=\"850.00\" y1=\"450.00\" y2=\"450.00\" /><line x1=\"100.00\" x2=\"850.00\" y1=\"425.00\" y2=\"425.00\" /><line x1=\"100.00\" x2=\"850.00\" y1=\"400.00\" y2=\"400.00\" /><line x1=\"100.00\" x2=\"850.00\" y1=\"375.00\" y2=\"375.00\" /><line x1=\"100.00\" x2=\"850.00\" y1=\"350.00\" y2=\"350.00\" /><line x1=\"100.00\" x2=\"850.00\" y1=\"325.00\" y2=\"325.00\" /><line x1=\"100.00\" x2=\"850.00\" y1=\"300.00\" y2=\"300.00\" /><line x1=\"100.00\" x2=\"850.00\" y1=\"275.00\" y2=\"275.00\" /><line x1=\"100.00\" x2=\"850.00\" y1=\"250.00\" y2=\"250.00\" /><line x1=\"100.00\" x2=\"850.00\" y1=\"225.00\" y2=\"225.00\" /><line x1=\"100.00\" x2=\"850.00\" y1=\"200.00\" y2=\"200.00\" /><line x1=\"100.00\" x2=\"850.00\" y1=\"175.00\" y2=\"175.00\" /><line x1=\"100.00\" x2=\"850.00\" y1=\"150.00\" y2=\"150.00\" /><line x1=\"100.00\" x2=\"850.00\" y1=\"125.00\" y2=\"125.00\" /><line x1=\"100.00\" x2=\"850.00\" y1=\"100.00\" y2=\"100.00\" /><line x1=\"100.00\" x2=\"850.00\" y1=\"75.00\" y2=\"75.00\" /><line x1=\"100.00\" x2=\"850.00\" y1=\"50.00\" y2=\"50.00\" /></g><g fill=\"#0af\" stroke=\"none\"><circle cx=\"137.50\" cy=\"285.70\" r=\"3\" /><circle cx=\"175.00\" cy=\"318.07\" r=\"3\" /><circle cx=\"175.00\" cy=\"286.56\" r=\"3\" /><circle cx=\"212.50\" cy=\"305.64\" r=\"3\" /><circle cx=\"212.50\" cy=\"290.05\" r=\"3\" /><circle cx=\"250.00\" cy=\"365.16\" r=\"3\" /><circle cx=\"250.00\" cy=\"261.86\" r=\"3\" /><circle cx=\"250.00\" cy=\"261.86\" r=\"3\" /><circle cx=\"250.00\" cy=\"273.81\" r=\"3\" /><circle cx=\"250.00\" cy=\"365.16\" r=\"3\" /><circle cx=\"287.50\" cy=\"282.70\" r=\"3\" /><circle cx=\"287.50\" cy=\"306.31\" r=\"3\" /><circle cx=\"325.00\" cy=\"338.08\" r=\"3\" /><circle cx=\"325.00\" cy=\"365.16\" r=\"3\" /><circle cx=\"325.00\" cy=\"248.27\" r=\"3\" /><circle cx=\"325.00\" cy=\"365.16\" r=\"3\" /><circle cx=\"325.00\" cy=\"360.91\" r=\"3\" /><circle cx=\"325.00\" cy=\"360.91\" r=\"3\" /><circle cx=\"362.50\" cy=\"281.42\" r=\"3\" /><circle cx=\"362.50\" cy=\"310.45\" r=\"3\" /><circle cx=\"362.50\" cy=\"318.07\" r=\"3\" /><circle cx=\"362.50\" cy=\"290.44\" r=\"3\" /><circle cx=\"362.50\" cy=\"265.52\" r=\"3\" /><circle cx=\"362.50\" cy=\"360.91\" r=\"3\" /><circle cx=\"400.00\" cy=\"296.60\" r=\"3\" /><circle cx=\"400.00\" cy=\"302.35\" r=\"3\" /><circle cx=\"400.00\" cy=\"308.89\" r=\"3\" /><circle cx=\"400.00\" cy=\"288.77\" r=\"3\" /><circle cx=\"437.50\" cy=\"299.73\" r=\"3\" /><circle cx=\"512.50\" cy=\"300.00\" r=\"3\" /><circle cx=\"512.50\" cy=\"304.75\" r=\"3\" /><circle cx=\"512.50\" cy=\"298.40\" r=\"3\" /><circle cx=\"512.50\" cy=\"294.24\" r=\"3\" /><circle cx=\"512.50\" cy=\"267.01\" r=\"3\" /><circle cx=\"512.50\" cy=\"92.92\" r=\"3\" /><circle cx=\"550.00\" cy=\"296.51\" r=\"3\" /><circle cx=\"587.50\" cy=\"308.42\" r=\"3\" /><circle cx=\"587.50\" cy=\"294.24\" r=\"3\" /><circle cx=\"587.50\" cy=\"284.32\" r=\"3\" /><circle cx=\"587.50\" cy=\"314.22\" r=\"3\" /><circle cx=\"587.50\" cy=\"284.78\" r=\"3\" /><circle cx=\"587.50\" cy=\"292.67\" r=\"3\" /><circle cx=\"587.50\" cy=\"299.38\" r=\"3\" /><circle cx=\"587.50\" cy=\"319.26\" r=\"3\" /><circle cx=\"587.50\" cy=\"305.09\" r=\"3\" /><circle cx=\"587.50\" cy=\"314.85\" r=\"3\" /><circle cx=\"587.50\" cy=\"302.80\" r=\"3\" /><circle cx=\"625.00\" cy=\"302.95\" r=\"3\" /><circle cx=\"625.00\" cy=\"297.30\" r=\"3\" /><circle cx=\"625.00\" cy=\"231.32\" r=\"3\" /><circle cx=\"662.50\" cy=\"292.09\" r=\"3\" /><circle cx=\"662.50\" cy=\"329.74\" r=\"3\" /><circle cx=\"700.00\" cy=\"287.36\" r=\"3\" /><circle cx=\"737.50\" cy=\"307.34\" r=\"3\" /><circle cx=\"737.50\" cy=\"298.92\" r=\"3\" /></g><polyline fill=\"none\" points=\"100.00,312.63 137.50,311.22 175.00,309.81 175.00,309.81 212.50,308.40 212.50,308.40 250.00,306.99 250.00,306.99 250.00,306.99 250.00,306.99 250.00,306.99 287.50,305.58 287.50,305.58 325.00,304.17 325.00,304.17 325.00,304.17 325.00,304.17 325.00,304.17 325.00,304.17 362.50,302.76 362.50,302.76 362.50,302.76 362.50,302.76 362.50,302.76 362.50,302.76 400.00,301.35 400.00,301.35 400.00,301.35 400.00,301.35 437.50,299.94 512.50,297.12 512.50,297.12 512.50,297.12 512.50,297.12 512.50,297.12 512.50,297.12 550.00,295.71 587.50,294.30 587.50,294.30 587.50,294.30 587.50,294.30 587.50,294.30 587.50,294.30 587.50,294.30 587.50,294.30 587.50,294.30 587.50,294.30 587.50,294.30 625.00,292.89 625.00,292.89 625.00,292.89 662.50,291.48 662.50,291.48 700.00,290.07 737.50,288.66 737.50,288.66 850.00,284.43\" stroke-width=\"3px\" stroke=\"#0fa\" /><g stroke=\"black\"><line x1=\"100.00\" x2=\"100.00\" y1=\"550.00\" y2=\"560.00\" /><line x1=\"137.50\" x2=\"137.50\" y1=\"550.00\" y2=\"560.00\" /><line x1=\"175.00\" x2=\"175.00\" y1=\"550.00\" y2=\"560.00\" /><line x1=\"212.50\" x2=\"212.50\" y1=\"550.00\" y2=\"560.00\" /><line x1=\"250.00\" x2=\"250.00\" y1=\"550.00\" y2=\"560.00\" /><line x1=\"287.50\" x2=\"287.50\" y1=\"550.00\" y2=\"560.00\" /><line x1=\"325.00\" x2=\"325.00\" y1=\"550.00\" y2=\"560.00\" /><line x1=\"362.50\" x2=\"362.50\" y1=\"550.00\" y2=\"560.00\" /><line x1=\"400.00\" x2=\"400.00\" y1=\"550.00\" y2=\"560.00\" /><line x1=\"437.50\" x2=\"437.50\" y1=\"550.00\" y2=\"560.00\" /><line x1=\"475.00\" x2=\"475.00\" y1=\"550.00\" y2=\"560.00\" /><line x1=\"512.50\" x2=\"512.50\" y1=\"550.00\" y2=\"560.00\" /><line x1=\"550.00\" x2=\"550.00\" y1=\"550.00\" y2=\"560.00\" /><line x1=\"587.50\" x2=\"587.50\" y1=\"550.00\" y2=\"560.00\" /><line x1=\"625.00\" x2=\"625.00\" y1=\"550.00\" y2=\"560.00\" /><line x1=\"662.50\" x2=\"662.50\" y1=\"550.00\" y2=\"560.00\" /><line x1=\"700.00\" x2=\"700.00\" y1=\"550.00\" y2=\"560.00\" /><line x1=\"737.50\" x2=\"737.50\" y1=\"550.00\" y2=\"560.00\" /><line x1=\"775.00\" x2=\"775.00\" y1=\"550.00\" y2=\"560.00\" /><line x1=\"812.50\" x2=\"812.50\" y1=\"550.00\" y2=\"560.00\" /><line x1=\"850.00\" x2=\"850.00\" y1=\"550.00\" y2=\"560.00\" /><g fill=\"black\" font-family=\"Arial, sans-serif\" font-size=\"10\" stroke=\"none\" text-anchor=\"end\"><text x=\"100.00\" y=\"565.00\">-1.00</text><text x=\"137.50\" y=\"565.00\">-0.90</text><text x=\"175.00\" y=\"565.00\">-0.80</text><text x=\"212.50\" y=\"565.00\">-0.70</text><text x=\"250.00\" y=\"565.00\">-0.60</text><text x=\"287.50\" y=\"565.00\">-0.50</text><text x=\"325.00\" y=\"565.00\">-0.40</text><text x=\"362.50\" y=\"565.00\">-0.30</text><text x=\"400.00\" y=\"565.00\">-0.20</text><text x=\"437.50\" y=\"565.00\">-0.10</text><text x=\"475.00\" y=\"565.00\">-0.00</text><text x=\"512.50\" y=\"565.00\">0.10</text><text x=\"550.00\" y=\"565.00\">0.20</text><text x=\"587.50\" y=\"565.00\">0.30</text><text x=\"625.00\" y=\"565.00\">0.40</text><text x=\"662.50\" y=\"565.00\">0.50</text><text x=\"700.00\" y=\"565.00\">0.60</text><text x=\"737.50\" y=\"565.00\">0.70</text><text x=\"775.00\" y=\"565.00\">0.80</text><text x=\"812.50\" y=\"565.00\">0.90</text><text x=\"850.00\" y=\"565.00\">1.00</text></g><line x1=\"100.00\" x2=\"850.00\" y1=\"550.00\" y2=\"550.00\" /></g><g stroke=\"black\"><line x1=\"100.00\" x2=\"90.00\" y1=\"550.00\" y2=\"550.00\" /><line x1=\"100.00\" x2=\"90.00\" y1=\"525.00\" y2=\"525.00\" /><line x1=\"100.00\" x2=\"90.00\" y1=\"500.00\" y2=\"500.00\" /><line x1=\"100.00\" x2=\"90.00\" y1=\"475.00\" y2=\"475.00\" /><line x1=\"100.00\" x2=\"90.00\" y1=\"450.00\" y2=\"450.00\" /><line x1=\"100.00\" x2=\"90.00\" y1=\"425.00\" y2=\"425.00\" /><line x1=\"100.00\" x2=\"90.00\" y1=\"400.00\" y2=\"400.00\" /><line x1=\"100.00\" x2=\"90.00\" y1=\"375.00\" y2=\"375.00\" /><line x1=\"100.00\" x2=\"90.00\" y1=\"350.00\" y2=\"350.00\" /><line x1=\"100.00\" x2=\"90.00\" y1=\"325.00\" y2=\"325.00\" /><line x1=\"100.00\" x2=\"90.00\" y1=\"300.00\" y2=\"300.00\" /><line x1=\"100.00\" x2=\"90.00\" y1=\"275.00\" y2=\"275.00\" /><line x1=\"100.00\" x2=\"90.00\" y1=\"250.00\" y2=\"250.00\" /><line x1=\"100.00\" x2=\"90.00\" y1=\"225.00\" y2=\"225.00\" /><line x1=\"100.00\" x2=\"90.00\" y1=\"200.00\" y2=\"200.00\" /><line x1=\"100.00\" x2=\"90.00\" y1=\"175.00\" y2=\"175.00\" /><line x1=\"100.00\" x2=\"90.00\" y1=\"150.00\" y2=\"150.00\" /><line x1=\"100.00\" x2=\"90.00\" y1=\"125.00\" y2=\"125.00\" /><line x1=\"100.00\" x2=\"90.00\" y1=\"100.00\" y2=\"100.00\" /><line x1=\"100.00\" x2=\"90.00\" y1=\"75.00\" y2=\"75.00\" /><line x1=\"100.00\" x2=\"90.00\" y1=\"50.00\" y2=\"50.00\" /><g fill=\"black\" font-family=\"Arial, sans-serif\" font-size=\"10\" stroke=\"none\" text-anchor=\"end\"><text x=\"85.00\" y=\"550.00\">-1.00</text><text x=\"85.00\" y=\"525.00\">-0.90</text><text x=\"85.00\" y=\"500.00\">-0.80</text><text x=\"85.00\" y=\"475.00\">-0.70</text><text x=\"85.00\" y=\"450.00\">-0.60</text><text x=\"85.00\" y=\"425.00\">-0.50</text><text x=\"85.00\" y=\"400.00\">-0.40</text><text x=\"85.00\" y=\"375.00\">-0.30</text><text x=\"85.00\" y=\"350.00\">-0.20</text><text x=\"85.00\" y=\"325.00\">-0.10</text><text x=\"85.00\" y=\"300.00\">-0.00</text><text x=\"85.00\" y=\"275.00\">0.10</text><text x=\"85.00\" y=\"250.00\">0.20</text><text x=\"85.00\" y=\"225.00\">0.30</text><text x=\"85.00\" y=\"200.00\">0.40</text><text x=\"85.00\" y=\"175.00\">0.50</text><text x=\"85.00\" y=\"150.00\">0.60</text><text x=\"85.00\" y=\"125.00\">0.70</text><text x=\"85.00\" y=\"100.00\">0.80</text><text x=\"85.00\" y=\"75.00\">0.90</text><text x=\"85.00\" y=\"50.00\">1.00</text></g><line x1=\"100.00\" x2=\"100.00\" y1=\"550.00\" y2=\"50.00\" /></g></g></svg>"
      ]
     },
     "execution_count": 8,
     "metadata": {},
     "output_type": "execute_result"
    }
   ],
   "source": [
    "(export-viz spec)"
   ]
  },
  {
   "cell_type": "code",
   "execution_count": 5,
   "metadata": {},
   "outputs": [
    {
     "data": {
      "text/plain": [
       "#'trachenberg.notebook.playground/spec"
      ]
     },
     "execution_count": 5,
     "metadata": {},
     "output_type": "execute_result"
    }
   ],
   "source": [
    "(let[[offset slope] (transduce identity (kixi.stats.core/simple-linear-regression :sentiment :profit) trades) \n",
    "      s1-line (map (juxt identity #(+ offset (* % slope))) (into [-1] (conj (mapv :sentiment trades) 1)))]\n",
    "    (def spec\n",
    "         {:x-axis (viz/linear-axis\n",
    "                   {:domain      [-1 1]\n",
    "                    :range       [100 850]\n",
    "                    :major       0.1\n",
    ";;                  :minor       0.05\n",
    "                    :pos         550\n",
    "                    :label-dist  15\n",
    "                    :label-style {:text-anchor \"end\"}})\n",
    "          :y-axis (viz/linear-axis\n",
    "                   {:domain      [-1 1]\n",
    "                    :range       [550 50]\n",
    "                    :major       0.1\n",
    ";;                  :minor       0.005\n",
    "                    :pos         100\n",
    "                    :label-dist  15\n",
    "                    :label-style {:text-anchor \"end\"}})\n",
    "          :grid   {:attribs {:stroke \"#caa\"}\n",
    "                   :minor-x true\n",
    "                   :minor-y true}\n",
    "          :data   [{:values  (map (juxt :sentiment :profit) trades)\n",
    "                    :attribs {:fill \"#0af\" :stroke \"none\"}\n",
    "                    :layout  viz/svg-scatter-plot}\n",
    "                   {:values  s1-line\n",
    "                    :attribs {:fill \"none\" :stroke \"#0fa\" :stroke-width \"3px\"}\n",
    "                    :layout  viz/svg-line-plot}]}))\n",
    "          \n",
    "        \n",
    "                "
   ]
  },
  {
   "cell_type": "code",
   "execution_count": 6,
   "metadata": {},
   "outputs": [
    {
     "data": {
      "text/html": [
       "<?xml version=\"1.0\"?>\n",
       "<svg height=\"600\" version=\"1.1\" width=\"900\" xmlns:xlink=\"http://www.w3.org/1999/xlink\" xmlns=\"http://www.w3.org/2000/svg\"><g><g stroke-dasharray=\"1 1\" stroke=\"#caa\"><line x1=\"100.00\" x2=\"100.00\" y1=\"550.00\" y2=\"50.00\" /><line x1=\"137.50\" x2=\"137.50\" y1=\"550.00\" y2=\"50.00\" /><line x1=\"175.00\" x2=\"175.00\" y1=\"550.00\" y2=\"50.00\" /><line x1=\"212.50\" x2=\"212.50\" y1=\"550.00\" y2=\"50.00\" /><line x1=\"250.00\" x2=\"250.00\" y1=\"550.00\" y2=\"50.00\" /><line x1=\"287.50\" x2=\"287.50\" y1=\"550.00\" y2=\"50.00\" /><line x1=\"325.00\" x2=\"325.00\" y1=\"550.00\" y2=\"50.00\" /><line x1=\"362.50\" x2=\"362.50\" y1=\"550.00\" y2=\"50.00\" /><line x1=\"400.00\" x2=\"400.00\" y1=\"550.00\" y2=\"50.00\" /><line x1=\"437.50\" x2=\"437.50\" y1=\"550.00\" y2=\"50.00\" /><line x1=\"475.00\" x2=\"475.00\" y1=\"550.00\" y2=\"50.00\" /><line x1=\"512.50\" x2=\"512.50\" y1=\"550.00\" y2=\"50.00\" /><line x1=\"550.00\" x2=\"550.00\" y1=\"550.00\" y2=\"50.00\" /><line x1=\"587.50\" x2=\"587.50\" y1=\"550.00\" y2=\"50.00\" /><line x1=\"625.00\" x2=\"625.00\" y1=\"550.00\" y2=\"50.00\" /><line x1=\"662.50\" x2=\"662.50\" y1=\"550.00\" y2=\"50.00\" /><line x1=\"700.00\" x2=\"700.00\" y1=\"550.00\" y2=\"50.00\" /><line x1=\"737.50\" x2=\"737.50\" y1=\"550.00\" y2=\"50.00\" /><line x1=\"775.00\" x2=\"775.00\" y1=\"550.00\" y2=\"50.00\" /><line x1=\"812.50\" x2=\"812.50\" y1=\"550.00\" y2=\"50.00\" /><line x1=\"850.00\" x2=\"850.00\" y1=\"550.00\" y2=\"50.00\" /><line x1=\"100.00\" x2=\"850.00\" y1=\"550.00\" y2=\"550.00\" /><line x1=\"100.00\" x2=\"850.00\" y1=\"525.00\" y2=\"525.00\" /><line x1=\"100.00\" x2=\"850.00\" y1=\"500.00\" y2=\"500.00\" /><line x1=\"100.00\" x2=\"850.00\" y1=\"475.00\" y2=\"475.00\" /><line x1=\"100.00\" x2=\"850.00\" y1=\"450.00\" y2=\"450.00\" /><line x1=\"100.00\" x2=\"850.00\" y1=\"425.00\" y2=\"425.00\" /><line x1=\"100.00\" x2=\"850.00\" y1=\"400.00\" y2=\"400.00\" /><line x1=\"100.00\" x2=\"850.00\" y1=\"375.00\" y2=\"375.00\" /><line x1=\"100.00\" x2=\"850.00\" y1=\"350.00\" y2=\"350.00\" /><line x1=\"100.00\" x2=\"850.00\" y1=\"325.00\" y2=\"325.00\" /><line x1=\"100.00\" x2=\"850.00\" y1=\"300.00\" y2=\"300.00\" /><line x1=\"100.00\" x2=\"850.00\" y1=\"275.00\" y2=\"275.00\" /><line x1=\"100.00\" x2=\"850.00\" y1=\"250.00\" y2=\"250.00\" /><line x1=\"100.00\" x2=\"850.00\" y1=\"225.00\" y2=\"225.00\" /><line x1=\"100.00\" x2=\"850.00\" y1=\"200.00\" y2=\"200.00\" /><line x1=\"100.00\" x2=\"850.00\" y1=\"175.00\" y2=\"175.00\" /><line x1=\"100.00\" x2=\"850.00\" y1=\"150.00\" y2=\"150.00\" /><line x1=\"100.00\" x2=\"850.00\" y1=\"125.00\" y2=\"125.00\" /><line x1=\"100.00\" x2=\"850.00\" y1=\"100.00\" y2=\"100.00\" /><line x1=\"100.00\" x2=\"850.00\" y1=\"75.00\" y2=\"75.00\" /><line x1=\"100.00\" x2=\"850.00\" y1=\"50.00\" y2=\"50.00\" /></g><g fill=\"#0af\" stroke=\"none\"><circle cx=\"137.50\" cy=\"314.30\" r=\"3\" /><circle cx=\"175.00\" cy=\"281.93\" r=\"3\" /><circle cx=\"175.00\" cy=\"313.44\" r=\"3\" /><circle cx=\"212.50\" cy=\"294.36\" r=\"3\" /><circle cx=\"212.50\" cy=\"309.95\" r=\"3\" /><circle cx=\"250.00\" cy=\"234.84\" r=\"3\" /><circle cx=\"250.00\" cy=\"338.14\" r=\"3\" /><circle cx=\"250.00\" cy=\"338.14\" r=\"3\" /><circle cx=\"250.00\" cy=\"326.19\" r=\"3\" /><circle cx=\"250.00\" cy=\"234.84\" r=\"3\" /><circle cx=\"287.50\" cy=\"317.30\" r=\"3\" /><circle cx=\"287.50\" cy=\"293.69\" r=\"3\" /><circle cx=\"325.00\" cy=\"261.92\" r=\"3\" /><circle cx=\"325.00\" cy=\"234.84\" r=\"3\" /><circle cx=\"325.00\" cy=\"351.73\" r=\"3\" /><circle cx=\"325.00\" cy=\"234.84\" r=\"3\" /><circle cx=\"325.00\" cy=\"239.09\" r=\"3\" /><circle cx=\"325.00\" cy=\"239.09\" r=\"3\" /><circle cx=\"362.50\" cy=\"318.58\" r=\"3\" /><circle cx=\"362.50\" cy=\"289.55\" r=\"3\" /><circle cx=\"362.50\" cy=\"281.93\" r=\"3\" /><circle cx=\"362.50\" cy=\"309.56\" r=\"3\" /><circle cx=\"362.50\" cy=\"334.48\" r=\"3\" /><circle cx=\"362.50\" cy=\"239.09\" r=\"3\" /><circle cx=\"400.00\" cy=\"303.40\" r=\"3\" /><circle cx=\"400.00\" cy=\"297.65\" r=\"3\" /><circle cx=\"400.00\" cy=\"291.11\" r=\"3\" /><circle cx=\"400.00\" cy=\"311.23\" r=\"3\" /><circle cx=\"437.50\" cy=\"300.27\" r=\"3\" /><circle cx=\"512.50\" cy=\"300.00\" r=\"3\" /><circle cx=\"512.50\" cy=\"304.75\" r=\"3\" /><circle cx=\"512.50\" cy=\"298.40\" r=\"3\" /><circle cx=\"512.50\" cy=\"294.24\" r=\"3\" /><circle cx=\"512.50\" cy=\"267.01\" r=\"3\" /><circle cx=\"512.50\" cy=\"92.92\" r=\"3\" /><circle cx=\"550.00\" cy=\"296.51\" r=\"3\" /><circle cx=\"587.50\" cy=\"308.42\" r=\"3\" /><circle cx=\"587.50\" cy=\"294.24\" r=\"3\" /><circle cx=\"587.50\" cy=\"284.32\" r=\"3\" /><circle cx=\"587.50\" cy=\"314.22\" r=\"3\" /><circle cx=\"587.50\" cy=\"284.78\" r=\"3\" /><circle cx=\"587.50\" cy=\"292.67\" r=\"3\" /><circle cx=\"587.50\" cy=\"299.38\" r=\"3\" /><circle cx=\"587.50\" cy=\"319.26\" r=\"3\" /><circle cx=\"587.50\" cy=\"305.09\" r=\"3\" /><circle cx=\"587.50\" cy=\"314.85\" r=\"3\" /><circle cx=\"587.50\" cy=\"302.80\" r=\"3\" /><circle cx=\"625.00\" cy=\"302.95\" r=\"3\" /><circle cx=\"625.00\" cy=\"297.30\" r=\"3\" /><circle cx=\"625.00\" cy=\"231.32\" r=\"3\" /><circle cx=\"662.50\" cy=\"292.09\" r=\"3\" /><circle cx=\"662.50\" cy=\"329.74\" r=\"3\" /><circle cx=\"700.00\" cy=\"287.36\" r=\"3\" /><circle cx=\"737.50\" cy=\"307.34\" r=\"3\" /><circle cx=\"737.50\" cy=\"298.92\" r=\"3\" /></g><polyline fill=\"none\" points=\"100.00,288.60 137.50,288.76 175.00,288.93 175.00,288.93 212.50,289.09 212.50,289.09 250.00,289.26 250.00,289.26 250.00,289.26 250.00,289.26 250.00,289.26 287.50,289.43 287.50,289.43 325.00,289.59 325.00,289.59 325.00,289.59 325.00,289.59 325.00,289.59 325.00,289.59 362.50,289.76 362.50,289.76 362.50,289.76 362.50,289.76 362.50,289.76 362.50,289.76 400.00,289.92 400.00,289.92 400.00,289.92 400.00,289.92 437.50,290.09 512.50,290.42 512.50,290.42 512.50,290.42 512.50,290.42 512.50,290.42 512.50,290.42 550.00,290.59 587.50,290.76 587.50,290.76 587.50,290.76 587.50,290.76 587.50,290.76 587.50,290.76 587.50,290.76 587.50,290.76 587.50,290.76 587.50,290.76 587.50,290.76 625.00,290.92 625.00,290.92 625.00,290.92 662.50,291.09 662.50,291.09 700.00,291.25 737.50,291.42 737.50,291.42 850.00,291.92\" stroke-width=\"3px\" stroke=\"#0fa\" /><g stroke=\"black\"><line x1=\"100.00\" x2=\"100.00\" y1=\"550.00\" y2=\"560.00\" /><line x1=\"137.50\" x2=\"137.50\" y1=\"550.00\" y2=\"560.00\" /><line x1=\"175.00\" x2=\"175.00\" y1=\"550.00\" y2=\"560.00\" /><line x1=\"212.50\" x2=\"212.50\" y1=\"550.00\" y2=\"560.00\" /><line x1=\"250.00\" x2=\"250.00\" y1=\"550.00\" y2=\"560.00\" /><line x1=\"287.50\" x2=\"287.50\" y1=\"550.00\" y2=\"560.00\" /><line x1=\"325.00\" x2=\"325.00\" y1=\"550.00\" y2=\"560.00\" /><line x1=\"362.50\" x2=\"362.50\" y1=\"550.00\" y2=\"560.00\" /><line x1=\"400.00\" x2=\"400.00\" y1=\"550.00\" y2=\"560.00\" /><line x1=\"437.50\" x2=\"437.50\" y1=\"550.00\" y2=\"560.00\" /><line x1=\"475.00\" x2=\"475.00\" y1=\"550.00\" y2=\"560.00\" /><line x1=\"512.50\" x2=\"512.50\" y1=\"550.00\" y2=\"560.00\" /><line x1=\"550.00\" x2=\"550.00\" y1=\"550.00\" y2=\"560.00\" /><line x1=\"587.50\" x2=\"587.50\" y1=\"550.00\" y2=\"560.00\" /><line x1=\"625.00\" x2=\"625.00\" y1=\"550.00\" y2=\"560.00\" /><line x1=\"662.50\" x2=\"662.50\" y1=\"550.00\" y2=\"560.00\" /><line x1=\"700.00\" x2=\"700.00\" y1=\"550.00\" y2=\"560.00\" /><line x1=\"737.50\" x2=\"737.50\" y1=\"550.00\" y2=\"560.00\" /><line x1=\"775.00\" x2=\"775.00\" y1=\"550.00\" y2=\"560.00\" /><line x1=\"812.50\" x2=\"812.50\" y1=\"550.00\" y2=\"560.00\" /><line x1=\"850.00\" x2=\"850.00\" y1=\"550.00\" y2=\"560.00\" /><g fill=\"black\" font-family=\"Arial, sans-serif\" font-size=\"10\" stroke=\"none\" text-anchor=\"end\"><text x=\"100.00\" y=\"565.00\">-1.00</text><text x=\"137.50\" y=\"565.00\">-0.90</text><text x=\"175.00\" y=\"565.00\">-0.80</text><text x=\"212.50\" y=\"565.00\">-0.70</text><text x=\"250.00\" y=\"565.00\">-0.60</text><text x=\"287.50\" y=\"565.00\">-0.50</text><text x=\"325.00\" y=\"565.00\">-0.40</text><text x=\"362.50\" y=\"565.00\">-0.30</text><text x=\"400.00\" y=\"565.00\">-0.20</text><text x=\"437.50\" y=\"565.00\">-0.10</text><text x=\"475.00\" y=\"565.00\">-0.00</text><text x=\"512.50\" y=\"565.00\">0.10</text><text x=\"550.00\" y=\"565.00\">0.20</text><text x=\"587.50\" y=\"565.00\">0.30</text><text x=\"625.00\" y=\"565.00\">0.40</text><text x=\"662.50\" y=\"565.00\">0.50</text><text x=\"700.00\" y=\"565.00\">0.60</text><text x=\"737.50\" y=\"565.00\">0.70</text><text x=\"775.00\" y=\"565.00\">0.80</text><text x=\"812.50\" y=\"565.00\">0.90</text><text x=\"850.00\" y=\"565.00\">1.00</text></g><line x1=\"100.00\" x2=\"850.00\" y1=\"550.00\" y2=\"550.00\" /></g><g stroke=\"black\"><line x1=\"100.00\" x2=\"90.00\" y1=\"550.00\" y2=\"550.00\" /><line x1=\"100.00\" x2=\"90.00\" y1=\"525.00\" y2=\"525.00\" /><line x1=\"100.00\" x2=\"90.00\" y1=\"500.00\" y2=\"500.00\" /><line x1=\"100.00\" x2=\"90.00\" y1=\"475.00\" y2=\"475.00\" /><line x1=\"100.00\" x2=\"90.00\" y1=\"450.00\" y2=\"450.00\" /><line x1=\"100.00\" x2=\"90.00\" y1=\"425.00\" y2=\"425.00\" /><line x1=\"100.00\" x2=\"90.00\" y1=\"400.00\" y2=\"400.00\" /><line x1=\"100.00\" x2=\"90.00\" y1=\"375.00\" y2=\"375.00\" /><line x1=\"100.00\" x2=\"90.00\" y1=\"350.00\" y2=\"350.00\" /><line x1=\"100.00\" x2=\"90.00\" y1=\"325.00\" y2=\"325.00\" /><line x1=\"100.00\" x2=\"90.00\" y1=\"300.00\" y2=\"300.00\" /><line x1=\"100.00\" x2=\"90.00\" y1=\"275.00\" y2=\"275.00\" /><line x1=\"100.00\" x2=\"90.00\" y1=\"250.00\" y2=\"250.00\" /><line x1=\"100.00\" x2=\"90.00\" y1=\"225.00\" y2=\"225.00\" /><line x1=\"100.00\" x2=\"90.00\" y1=\"200.00\" y2=\"200.00\" /><line x1=\"100.00\" x2=\"90.00\" y1=\"175.00\" y2=\"175.00\" /><line x1=\"100.00\" x2=\"90.00\" y1=\"150.00\" y2=\"150.00\" /><line x1=\"100.00\" x2=\"90.00\" y1=\"125.00\" y2=\"125.00\" /><line x1=\"100.00\" x2=\"90.00\" y1=\"100.00\" y2=\"100.00\" /><line x1=\"100.00\" x2=\"90.00\" y1=\"75.00\" y2=\"75.00\" /><line x1=\"100.00\" x2=\"90.00\" y1=\"50.00\" y2=\"50.00\" /><g fill=\"black\" font-family=\"Arial, sans-serif\" font-size=\"10\" stroke=\"none\" text-anchor=\"end\"><text x=\"85.00\" y=\"550.00\">-1.00</text><text x=\"85.00\" y=\"525.00\">-0.90</text><text x=\"85.00\" y=\"500.00\">-0.80</text><text x=\"85.00\" y=\"475.00\">-0.70</text><text x=\"85.00\" y=\"450.00\">-0.60</text><text x=\"85.00\" y=\"425.00\">-0.50</text><text x=\"85.00\" y=\"400.00\">-0.40</text><text x=\"85.00\" y=\"375.00\">-0.30</text><text x=\"85.00\" y=\"350.00\">-0.20</text><text x=\"85.00\" y=\"325.00\">-0.10</text><text x=\"85.00\" y=\"300.00\">-0.00</text><text x=\"85.00\" y=\"275.00\">0.10</text><text x=\"85.00\" y=\"250.00\">0.20</text><text x=\"85.00\" y=\"225.00\">0.30</text><text x=\"85.00\" y=\"200.00\">0.40</text><text x=\"85.00\" y=\"175.00\">0.50</text><text x=\"85.00\" y=\"150.00\">0.60</text><text x=\"85.00\" y=\"125.00\">0.70</text><text x=\"85.00\" y=\"100.00\">0.80</text><text x=\"85.00\" y=\"75.00\">0.90</text><text x=\"85.00\" y=\"50.00\">1.00</text></g><line x1=\"100.00\" x2=\"100.00\" y1=\"550.00\" y2=\"50.00\" /></g></g></svg>"
      ]
     },
     "execution_count": 6,
     "metadata": {},
     "output_type": "execute_result"
    }
   ],
   "source": [
    "(export-viz spec)"
   ]
  },
  {
   "cell_type": "code",
   "execution_count": null,
   "metadata": {},
   "outputs": [],
   "source": []
  }
 ],
 "metadata": {
  "kernelspec": {
   "display_name": "Lein-Clojure",
   "language": "clojure",
   "name": "lein-clojure"
  },
  "language_info": {
   "file_extension": ".clj",
   "mimetype": "text/x-clojure",
   "name": "clojure",
   "version": "1.9.0"
  }
 },
 "nbformat": 4,
 "nbformat_minor": 2
}
