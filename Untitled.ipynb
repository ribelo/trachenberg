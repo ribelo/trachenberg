{
 "cells": [
  {
   "cell_type": "code",
   "execution_count": 1,
   "metadata": {},
   "outputs": [],
   "source": [
    "\n",
    "import sys\n",
    "import os\n",
    "\n",
    "sys.path.append(os.path.abspath(os.path.join('./src/trachenberg')))\n"
   ]
  },
  {
   "cell_type": "code",
   "execution_count": 2,
   "metadata": {},
   "outputs": [],
   "source": [
    "import numpy as np\n",
    "import pandas as pd\n",
    "import echarts\n",
    "from IPython.core.display import HTML"
   ]
  },
  {
   "cell_type": "code",
   "execution_count": 4,
   "metadata": {},
   "outputs": [
    {
     "data": {
      "text/html": [
       "<script>require.config({\n",
       "                        paths: {\n",
       "                            echarts: 'https://cdnjs.cloudflare.com/ajax/libs/echarts/4.0.4/echarts-en'\n",
       "                        }});\n",
       "            require(['echarts'], function(echarts){\n",
       "            window.echarts = echarts\n",
       "        });</script>"
      ],
      "text/plain": [
       "<IPython.core.display.HTML object>"
      ]
     },
     "execution_count": 4,
     "metadata": {},
     "output_type": "execute_result"
    }
   ],
   "source": [
    "echarts.init_echarts()"
   ]
  },
  {
   "cell_type": "code",
   "execution_count": 3,
   "metadata": {},
   "outputs": [
    {
     "data": {
      "text/html": [
       "<div>\n",
       "                <div id=94186404-6749-11e8-a3d3-dc85de7c9a8f style=\"width:900px;\n",
       "                                    height:400px;\">\n",
       "                </div>\n",
       "                <script>console.log(\"sex\")\n",
       "              var chart = echarts.init(document.getElementById(\"94186404-6749-11e8-a3d3-dc85de7c9a8f\"));\n",
       "              chart.setOption({\"title\": {\"text\": \"test\"}, \"tooltip\": {}, \"legend\": {\"data\": [\"Sales\"]}, \"xAxis\": {\"data\": [\"shirt\", \"cardign\", \"chiffon shirt\", \"pants\", \"heels\", \"socks\"]}, \"yAxis\": {}, \"series\": [{\"name\": \"Sales\", \"type\": \"bar\", \"data\": [5, 20, 36, 10, 10, 20]}]});\n",
       "              </script>\n",
       "              </div>"
      ],
      "text/plain": [
       "<IPython.core.display.HTML object>"
      ]
     },
     "execution_count": 3,
     "metadata": {},
     "output_type": "execute_result"
    }
   ],
   "source": [
    "option = {'title': {'text': 'test'},\n",
    "          'tooltip': {},\n",
    "          'legend': {'data': ['Sales']},\n",
    "          'xAxis': {'data': [\"shirt\",\"cardign\",\"chiffon shirt\",\"pants\",\"heels\",\"socks\"]},\n",
    "          'yAxis': {},\n",
    "          'series': [{\n",
    "                'name': 'Sales',\n",
    "                'type': 'bar',\n",
    "                'data': [5, 20, 36, 10, 10, 20]\n",
    "            }]}\n",
    "echarts.plot(option)"
   ]
  },
  {
   "cell_type": "code",
   "execution_count": null,
   "metadata": {},
   "outputs": [],
   "source": []
  }
 ],
 "metadata": {
  "kernelspec": {
   "display_name": "Python 3",
   "language": "python",
   "name": "python3"
  },
  "language_info": {
   "codemirror_mode": {
    "name": "ipython",
    "version": 3
   },
   "file_extension": ".py",
   "mimetype": "text/x-python",
   "name": "python",
   "nbconvert_exporter": "python",
   "pygments_lexer": "ipython3",
   "version": "3.6.5"
  }
 },
 "nbformat": 4,
 "nbformat_minor": 2
}
